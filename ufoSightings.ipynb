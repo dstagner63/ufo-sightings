{
 "metadata": {
  "language_info": {
   "codemirror_mode": {
    "name": "ipython",
    "version": 3
   },
   "file_extension": ".py",
   "mimetype": "text/x-python",
   "name": "python",
   "nbconvert_exporter": "python",
   "pygments_lexer": "ipython3",
   "version": "3.8.3-final"
  },
  "orig_nbformat": 2,
  "kernelspec": {
   "name": "python3",
   "display_name": "Python 3",
   "language": "python"
  }
 },
 "nbformat": 4,
 "nbformat_minor": 2,
 "cells": [
  {
   "cell_type": "code",
   "execution_count": 65,
   "metadata": {},
   "outputs": [],
   "source": [
    "import pandas as pd\n",
    "from datetime import datetime\n",
    "import numpy as np\n",
    "from scipy import stats \n",
    "\n",
    "ufo_file = \"ufoSightings.csv\""
   ]
  },
  {
   "cell_type": "code",
   "execution_count": 66,
   "metadata": {},
   "outputs": [
    {
     "output_type": "execute_result",
     "data": {
      "text/plain": [
       "               datetime                  city state country     shape  \\\n",
       "0      10/10/1949 20:30            san marcos    tx      us  cylinder   \n",
       "1      10/10/1949 21:00          lackland afb    tx     NaN     light   \n",
       "2      10/10/1955 17:00  chester (uk/england)   NaN      gb    circle   \n",
       "3      10/10/1956 21:00                  edna    tx      us    circle   \n",
       "4      10/10/1960 20:00               kaneohe    hi      us     light   \n",
       "...                 ...                   ...   ...     ...       ...   \n",
       "80327    9/9/2013 21:15             nashville    tn      us     light   \n",
       "80328    9/9/2013 22:00                 boise    id      us    circle   \n",
       "80329    9/9/2013 22:00                  napa    ca      us     other   \n",
       "80330    9/9/2013 22:20                vienna    va      us    circle   \n",
       "80331    9/9/2013 23:00                edmond    ok      us     cigar   \n",
       "\n",
       "      duration (seconds) duration (hours/min)  \\\n",
       "0                   2700           45 minutes   \n",
       "1                   7200              1-2 hrs   \n",
       "2                     20           20 seconds   \n",
       "3                     20             1/2 hour   \n",
       "4                    900           15 minutes   \n",
       "...                  ...                  ...   \n",
       "80327                600           10 minutes   \n",
       "80328               1200           20 minutes   \n",
       "80329               1200                 hour   \n",
       "80330                  5            5 seconds   \n",
       "80331               1020           17 minutes   \n",
       "\n",
       "                                                comments date posted  \\\n",
       "0      This event took place in early fall around 194...   4/27/2004   \n",
       "1      1949 Lackland AFB&#44 TX.  Lights racing acros...  12/16/2005   \n",
       "2      Green/Orange circular disc over Chester&#44 En...   1/21/2008   \n",
       "3      My older brother and twin sister were leaving ...   1/17/2004   \n",
       "4      AS a Marine 1st Lt. flying an FJ4B fighter/att...   1/22/2004   \n",
       "...                                                  ...         ...   \n",
       "80327  Round from the distance/slowly changing colors...   9/30/2013   \n",
       "80328  Boise&#44 ID&#44 spherical&#44 20 min&#44 10 r...   9/30/2013   \n",
       "80329                                       Napa UFO&#44   9/30/2013   \n",
       "80330  Saw a five gold lit cicular craft moving fastl...   9/30/2013   \n",
       "80331  2 witnesses 2  miles apart&#44 Red &amp; White...   9/30/2013   \n",
       "\n",
       "         latitude  longitude   \n",
       "0      29.8830556  -97.941111  \n",
       "1        29.38421  -98.581082  \n",
       "2            53.2   -2.916667  \n",
       "3      28.9783333  -96.645833  \n",
       "4      21.4180556 -157.803611  \n",
       "...           ...         ...  \n",
       "80327     36.1658  -86.784444  \n",
       "80328     43.6136 -116.202500  \n",
       "80329     38.2972 -122.284444  \n",
       "80330     38.9011  -77.265556  \n",
       "80331     35.6528  -97.477778  \n",
       "\n",
       "[80332 rows x 11 columns]"
      ],
      "text/html": "<div>\n<style scoped>\n    .dataframe tbody tr th:only-of-type {\n        vertical-align: middle;\n    }\n\n    .dataframe tbody tr th {\n        vertical-align: top;\n    }\n\n    .dataframe thead th {\n        text-align: right;\n    }\n</style>\n<table border=\"1\" class=\"dataframe\">\n  <thead>\n    <tr style=\"text-align: right;\">\n      <th></th>\n      <th>datetime</th>\n      <th>city</th>\n      <th>state</th>\n      <th>country</th>\n      <th>shape</th>\n      <th>duration (seconds)</th>\n      <th>duration (hours/min)</th>\n      <th>comments</th>\n      <th>date posted</th>\n      <th>latitude</th>\n      <th>longitude</th>\n    </tr>\n  </thead>\n  <tbody>\n    <tr>\n      <th>0</th>\n      <td>10/10/1949 20:30</td>\n      <td>san marcos</td>\n      <td>tx</td>\n      <td>us</td>\n      <td>cylinder</td>\n      <td>2700</td>\n      <td>45 minutes</td>\n      <td>This event took place in early fall around 194...</td>\n      <td>4/27/2004</td>\n      <td>29.8830556</td>\n      <td>-97.941111</td>\n    </tr>\n    <tr>\n      <th>1</th>\n      <td>10/10/1949 21:00</td>\n      <td>lackland afb</td>\n      <td>tx</td>\n      <td>NaN</td>\n      <td>light</td>\n      <td>7200</td>\n      <td>1-2 hrs</td>\n      <td>1949 Lackland AFB&amp;#44 TX.  Lights racing acros...</td>\n      <td>12/16/2005</td>\n      <td>29.38421</td>\n      <td>-98.581082</td>\n    </tr>\n    <tr>\n      <th>2</th>\n      <td>10/10/1955 17:00</td>\n      <td>chester (uk/england)</td>\n      <td>NaN</td>\n      <td>gb</td>\n      <td>circle</td>\n      <td>20</td>\n      <td>20 seconds</td>\n      <td>Green/Orange circular disc over Chester&amp;#44 En...</td>\n      <td>1/21/2008</td>\n      <td>53.2</td>\n      <td>-2.916667</td>\n    </tr>\n    <tr>\n      <th>3</th>\n      <td>10/10/1956 21:00</td>\n      <td>edna</td>\n      <td>tx</td>\n      <td>us</td>\n      <td>circle</td>\n      <td>20</td>\n      <td>1/2 hour</td>\n      <td>My older brother and twin sister were leaving ...</td>\n      <td>1/17/2004</td>\n      <td>28.9783333</td>\n      <td>-96.645833</td>\n    </tr>\n    <tr>\n      <th>4</th>\n      <td>10/10/1960 20:00</td>\n      <td>kaneohe</td>\n      <td>hi</td>\n      <td>us</td>\n      <td>light</td>\n      <td>900</td>\n      <td>15 minutes</td>\n      <td>AS a Marine 1st Lt. flying an FJ4B fighter/att...</td>\n      <td>1/22/2004</td>\n      <td>21.4180556</td>\n      <td>-157.803611</td>\n    </tr>\n    <tr>\n      <th>...</th>\n      <td>...</td>\n      <td>...</td>\n      <td>...</td>\n      <td>...</td>\n      <td>...</td>\n      <td>...</td>\n      <td>...</td>\n      <td>...</td>\n      <td>...</td>\n      <td>...</td>\n      <td>...</td>\n    </tr>\n    <tr>\n      <th>80327</th>\n      <td>9/9/2013 21:15</td>\n      <td>nashville</td>\n      <td>tn</td>\n      <td>us</td>\n      <td>light</td>\n      <td>600</td>\n      <td>10 minutes</td>\n      <td>Round from the distance/slowly changing colors...</td>\n      <td>9/30/2013</td>\n      <td>36.1658</td>\n      <td>-86.784444</td>\n    </tr>\n    <tr>\n      <th>80328</th>\n      <td>9/9/2013 22:00</td>\n      <td>boise</td>\n      <td>id</td>\n      <td>us</td>\n      <td>circle</td>\n      <td>1200</td>\n      <td>20 minutes</td>\n      <td>Boise&amp;#44 ID&amp;#44 spherical&amp;#44 20 min&amp;#44 10 r...</td>\n      <td>9/30/2013</td>\n      <td>43.6136</td>\n      <td>-116.202500</td>\n    </tr>\n    <tr>\n      <th>80329</th>\n      <td>9/9/2013 22:00</td>\n      <td>napa</td>\n      <td>ca</td>\n      <td>us</td>\n      <td>other</td>\n      <td>1200</td>\n      <td>hour</td>\n      <td>Napa UFO&amp;#44</td>\n      <td>9/30/2013</td>\n      <td>38.2972</td>\n      <td>-122.284444</td>\n    </tr>\n    <tr>\n      <th>80330</th>\n      <td>9/9/2013 22:20</td>\n      <td>vienna</td>\n      <td>va</td>\n      <td>us</td>\n      <td>circle</td>\n      <td>5</td>\n      <td>5 seconds</td>\n      <td>Saw a five gold lit cicular craft moving fastl...</td>\n      <td>9/30/2013</td>\n      <td>38.9011</td>\n      <td>-77.265556</td>\n    </tr>\n    <tr>\n      <th>80331</th>\n      <td>9/9/2013 23:00</td>\n      <td>edmond</td>\n      <td>ok</td>\n      <td>us</td>\n      <td>cigar</td>\n      <td>1020</td>\n      <td>17 minutes</td>\n      <td>2 witnesses 2  miles apart&amp;#44 Red &amp;amp; White...</td>\n      <td>9/30/2013</td>\n      <td>35.6528</td>\n      <td>-97.477778</td>\n    </tr>\n  </tbody>\n</table>\n<p>80332 rows × 11 columns</p>\n</div>"
     },
     "metadata": {},
     "execution_count": 66
    }
   ],
   "source": [
    "ufo_df = pd.read_csv (ufo_file, delimiter= \",\")\n",
    "ufo_df"
   ]
  },
  {
   "cell_type": "code",
   "execution_count": 67,
   "metadata": {},
   "outputs": [
    {
     "output_type": "execute_result",
     "data": {
      "text/plain": [
       "               datetime        city state country     shape  \\\n",
       "0      10/10/1949 20:30  san marcos    tx      us  cylinder   \n",
       "3      10/10/1956 21:00        edna    tx      us    circle   \n",
       "4      10/10/1960 20:00     kaneohe    hi      us     light   \n",
       "5      10/10/1961 19:00     bristol    tn      us    sphere   \n",
       "7      10/10/1965 23:45     norwalk    ct      us      disk   \n",
       "...                 ...         ...   ...     ...       ...   \n",
       "80327    9/9/2013 21:15   nashville    tn      us     light   \n",
       "80328    9/9/2013 22:00       boise    id      us    circle   \n",
       "80329    9/9/2013 22:00        napa    ca      us     other   \n",
       "80330    9/9/2013 22:20      vienna    va      us    circle   \n",
       "80331    9/9/2013 23:00      edmond    ok      us     cigar   \n",
       "\n",
       "      duration (seconds) duration (hours/min)  \\\n",
       "0                   2700           45 minutes   \n",
       "3                     20             1/2 hour   \n",
       "4                    900           15 minutes   \n",
       "5                    300            5 minutes   \n",
       "7                   1200           20 minutes   \n",
       "...                  ...                  ...   \n",
       "80327                600           10 minutes   \n",
       "80328               1200           20 minutes   \n",
       "80329               1200                 hour   \n",
       "80330                  5            5 seconds   \n",
       "80331               1020           17 minutes   \n",
       "\n",
       "                                                comments date posted  \\\n",
       "0      This event took place in early fall around 194...   4/27/2004   \n",
       "3      My older brother and twin sister were leaving ...   1/17/2004   \n",
       "4      AS a Marine 1st Lt. flying an FJ4B fighter/att...   1/22/2004   \n",
       "5      My father is now 89 my brother 52 the girl wit...   4/27/2007   \n",
       "7      A bright orange color changing to reddish colo...   10/2/1999   \n",
       "...                                                  ...         ...   \n",
       "80327  Round from the distance/slowly changing colors...   9/30/2013   \n",
       "80328  Boise&#44 ID&#44 spherical&#44 20 min&#44 10 r...   9/30/2013   \n",
       "80329                                       Napa UFO&#44   9/30/2013   \n",
       "80330  Saw a five gold lit cicular craft moving fastl...   9/30/2013   \n",
       "80331  2 witnesses 2  miles apart&#44 Red &amp; White...   9/30/2013   \n",
       "\n",
       "         latitude  longitude   \n",
       "0      29.8830556  -97.941111  \n",
       "3      28.9783333  -96.645833  \n",
       "4      21.4180556 -157.803611  \n",
       "5          36.595  -82.188889  \n",
       "7         41.1175  -73.408333  \n",
       "...           ...         ...  \n",
       "80327     36.1658  -86.784444  \n",
       "80328     43.6136 -116.202500  \n",
       "80329     38.2972 -122.284444  \n",
       "80330     38.9011  -77.265556  \n",
       "80331     35.6528  -97.477778  \n",
       "\n",
       "[65114 rows x 11 columns]"
      ],
      "text/html": "<div>\n<style scoped>\n    .dataframe tbody tr th:only-of-type {\n        vertical-align: middle;\n    }\n\n    .dataframe tbody tr th {\n        vertical-align: top;\n    }\n\n    .dataframe thead th {\n        text-align: right;\n    }\n</style>\n<table border=\"1\" class=\"dataframe\">\n  <thead>\n    <tr style=\"text-align: right;\">\n      <th></th>\n      <th>datetime</th>\n      <th>city</th>\n      <th>state</th>\n      <th>country</th>\n      <th>shape</th>\n      <th>duration (seconds)</th>\n      <th>duration (hours/min)</th>\n      <th>comments</th>\n      <th>date posted</th>\n      <th>latitude</th>\n      <th>longitude</th>\n    </tr>\n  </thead>\n  <tbody>\n    <tr>\n      <th>0</th>\n      <td>10/10/1949 20:30</td>\n      <td>san marcos</td>\n      <td>tx</td>\n      <td>us</td>\n      <td>cylinder</td>\n      <td>2700</td>\n      <td>45 minutes</td>\n      <td>This event took place in early fall around 194...</td>\n      <td>4/27/2004</td>\n      <td>29.8830556</td>\n      <td>-97.941111</td>\n    </tr>\n    <tr>\n      <th>3</th>\n      <td>10/10/1956 21:00</td>\n      <td>edna</td>\n      <td>tx</td>\n      <td>us</td>\n      <td>circle</td>\n      <td>20</td>\n      <td>1/2 hour</td>\n      <td>My older brother and twin sister were leaving ...</td>\n      <td>1/17/2004</td>\n      <td>28.9783333</td>\n      <td>-96.645833</td>\n    </tr>\n    <tr>\n      <th>4</th>\n      <td>10/10/1960 20:00</td>\n      <td>kaneohe</td>\n      <td>hi</td>\n      <td>us</td>\n      <td>light</td>\n      <td>900</td>\n      <td>15 minutes</td>\n      <td>AS a Marine 1st Lt. flying an FJ4B fighter/att...</td>\n      <td>1/22/2004</td>\n      <td>21.4180556</td>\n      <td>-157.803611</td>\n    </tr>\n    <tr>\n      <th>5</th>\n      <td>10/10/1961 19:00</td>\n      <td>bristol</td>\n      <td>tn</td>\n      <td>us</td>\n      <td>sphere</td>\n      <td>300</td>\n      <td>5 minutes</td>\n      <td>My father is now 89 my brother 52 the girl wit...</td>\n      <td>4/27/2007</td>\n      <td>36.595</td>\n      <td>-82.188889</td>\n    </tr>\n    <tr>\n      <th>7</th>\n      <td>10/10/1965 23:45</td>\n      <td>norwalk</td>\n      <td>ct</td>\n      <td>us</td>\n      <td>disk</td>\n      <td>1200</td>\n      <td>20 minutes</td>\n      <td>A bright orange color changing to reddish colo...</td>\n      <td>10/2/1999</td>\n      <td>41.1175</td>\n      <td>-73.408333</td>\n    </tr>\n    <tr>\n      <th>...</th>\n      <td>...</td>\n      <td>...</td>\n      <td>...</td>\n      <td>...</td>\n      <td>...</td>\n      <td>...</td>\n      <td>...</td>\n      <td>...</td>\n      <td>...</td>\n      <td>...</td>\n      <td>...</td>\n    </tr>\n    <tr>\n      <th>80327</th>\n      <td>9/9/2013 21:15</td>\n      <td>nashville</td>\n      <td>tn</td>\n      <td>us</td>\n      <td>light</td>\n      <td>600</td>\n      <td>10 minutes</td>\n      <td>Round from the distance/slowly changing colors...</td>\n      <td>9/30/2013</td>\n      <td>36.1658</td>\n      <td>-86.784444</td>\n    </tr>\n    <tr>\n      <th>80328</th>\n      <td>9/9/2013 22:00</td>\n      <td>boise</td>\n      <td>id</td>\n      <td>us</td>\n      <td>circle</td>\n      <td>1200</td>\n      <td>20 minutes</td>\n      <td>Boise&amp;#44 ID&amp;#44 spherical&amp;#44 20 min&amp;#44 10 r...</td>\n      <td>9/30/2013</td>\n      <td>43.6136</td>\n      <td>-116.202500</td>\n    </tr>\n    <tr>\n      <th>80329</th>\n      <td>9/9/2013 22:00</td>\n      <td>napa</td>\n      <td>ca</td>\n      <td>us</td>\n      <td>other</td>\n      <td>1200</td>\n      <td>hour</td>\n      <td>Napa UFO&amp;#44</td>\n      <td>9/30/2013</td>\n      <td>38.2972</td>\n      <td>-122.284444</td>\n    </tr>\n    <tr>\n      <th>80330</th>\n      <td>9/9/2013 22:20</td>\n      <td>vienna</td>\n      <td>va</td>\n      <td>us</td>\n      <td>circle</td>\n      <td>5</td>\n      <td>5 seconds</td>\n      <td>Saw a five gold lit cicular craft moving fastl...</td>\n      <td>9/30/2013</td>\n      <td>38.9011</td>\n      <td>-77.265556</td>\n    </tr>\n    <tr>\n      <th>80331</th>\n      <td>9/9/2013 23:00</td>\n      <td>edmond</td>\n      <td>ok</td>\n      <td>us</td>\n      <td>cigar</td>\n      <td>1020</td>\n      <td>17 minutes</td>\n      <td>2 witnesses 2  miles apart&amp;#44 Red &amp;amp; White...</td>\n      <td>9/30/2013</td>\n      <td>35.6528</td>\n      <td>-97.477778</td>\n    </tr>\n  </tbody>\n</table>\n<p>65114 rows × 11 columns</p>\n</div>"
     },
     "metadata": {},
     "execution_count": 67
    }
   ],
   "source": [
    "us_df = ufo_df[ufo_df[\"country\"] == \"us\"]\n",
    "us_df"
   ]
  },
  {
   "cell_type": "code",
   "execution_count": 68,
   "metadata": {},
   "outputs": [
    {
     "output_type": "execute_result",
     "data": {
      "text/plain": [
       "              datetime            city state country     shape  \\\n",
       "22896  1/26/2002 21:45  cape girardeau    mo      us    circle   \n",
       "25331   1/8/2013 17:00  cape girardeau    mo      us     cigar   \n",
       "26700  2/15/2004 23:00  cape girardeau    mo      us  triangle   \n",
       "28322  2/23/2014 23:00  cape girardeau    mo      us   unknown   \n",
       "34756    3/5/1999 1:00  cape girardeau    mo      us   unknown   \n",
       "40612    4/6/2014 4:00  cape girardeau    mo      us    circle   \n",
       "44130  5/24/2005 23:15  cape girardeau    mo      us       egg   \n",
       "51590  6/24/2012 21:55  cape girardeau    mo      us     light   \n",
       "52480  6/29/2008 19:00  cape girardeau    mo      us      oval   \n",
       "52615  6/30/1956 13:00  cape girardeau    mo      us   diamond   \n",
       "53208  6/30/2011 22:08  cape girardeau    mo      us     light   \n",
       "61183  7/31/2012 23:15  cape girardeau    mo      us   diamond   \n",
       "61207   7/3/1990 22:00  cape girardeau    mo      us    sphere   \n",
       "65205   8/1/2012 22:45  cape girardeau    mo      us      oval   \n",
       "76811  9/22/1973 18:02  cape girardeau    mo      us      disk   \n",
       "\n",
       "      duration (seconds) duration (hours/min)  \\\n",
       "22896                 60             1 minute   \n",
       "25331                180            3 minutes   \n",
       "26700                 60                 1min   \n",
       "28322                120            2 minutes   \n",
       "34756                900           15 minutes   \n",
       "40612                  1             1 second   \n",
       "44130                600               10 min   \n",
       "51590                 30           30 seconds   \n",
       "52480                900           15 minutes   \n",
       "52615                300            5 minutew   \n",
       "53208                120               2 mins   \n",
       "61183               1425                23:45   \n",
       "61207                300            5 minutes   \n",
       "65205               7200       2 hrs at least   \n",
       "76811               1200           20 minutes   \n",
       "\n",
       "                                                comments date posted  \\\n",
       "22896  Circular object appears to &quot;float&quot; o...   2/22/2002   \n",
       "25331                           Strange Sight About Cape    2/4/2013   \n",
       "26700  i was on my carport and looked over by the str...  11/28/2007   \n",
       "28322  2 Perfect White Circles hovering extremely low...   2/27/2014   \n",
       "34756                   2 fast objects chased by planes.   9/17/2000   \n",
       "40612  I was at work at McDonald&#39s&#44 it was arou...   4/11/2014   \n",
       "44130  Very large &#44stationary&#44illuminated like ...   5/28/2005   \n",
       "51590  Bright green/yellow light traveling nw to se a...    7/4/2012   \n",
       "52480  5 silver&#44 oval shaped objects moving slowly...    7/5/2008   \n",
       "52615                     Angular UFO sighted as a child  12/12/2011   \n",
       "53208         Orange Light passing over city&#44 silent.    7/4/2011   \n",
       "61183       3 Multi-colored possibly diamond shaped UFOs    8/5/2012   \n",
       "61207  I heard two men talking to each other and one ...  12/12/2009   \n",
       "65205  Green orb over Cape Girardeau&#44 MO Aug 1&#44...   8/19/2012   \n",
       "76811  I watched a disk-shaped craft hover above tree...   9/17/2000   \n",
       "\n",
       "         latitude  longitude   \n",
       "22896  37.3058333  -89.518056  \n",
       "25331  37.3058333  -89.518056  \n",
       "26700  37.3058333  -89.518056  \n",
       "28322  37.3058333  -89.518056  \n",
       "34756  37.3058333  -89.518056  \n",
       "40612  37.3058333  -89.518056  \n",
       "44130  37.3058333  -89.518056  \n",
       "51590  37.3058333  -89.518056  \n",
       "52480  37.3058333  -89.518056  \n",
       "52615  37.3058333  -89.518056  \n",
       "53208  37.3058333  -89.518056  \n",
       "61183  37.3058333  -89.518056  \n",
       "61207  37.3058333  -89.518056  \n",
       "65205  37.3058333  -89.518056  \n",
       "76811     37.3058  -89.518056  "
      ],
      "text/html": "<div>\n<style scoped>\n    .dataframe tbody tr th:only-of-type {\n        vertical-align: middle;\n    }\n\n    .dataframe tbody tr th {\n        vertical-align: top;\n    }\n\n    .dataframe thead th {\n        text-align: right;\n    }\n</style>\n<table border=\"1\" class=\"dataframe\">\n  <thead>\n    <tr style=\"text-align: right;\">\n      <th></th>\n      <th>datetime</th>\n      <th>city</th>\n      <th>state</th>\n      <th>country</th>\n      <th>shape</th>\n      <th>duration (seconds)</th>\n      <th>duration (hours/min)</th>\n      <th>comments</th>\n      <th>date posted</th>\n      <th>latitude</th>\n      <th>longitude</th>\n    </tr>\n  </thead>\n  <tbody>\n    <tr>\n      <th>22896</th>\n      <td>1/26/2002 21:45</td>\n      <td>cape girardeau</td>\n      <td>mo</td>\n      <td>us</td>\n      <td>circle</td>\n      <td>60</td>\n      <td>1 minute</td>\n      <td>Circular object appears to &amp;quot;float&amp;quot; o...</td>\n      <td>2/22/2002</td>\n      <td>37.3058333</td>\n      <td>-89.518056</td>\n    </tr>\n    <tr>\n      <th>25331</th>\n      <td>1/8/2013 17:00</td>\n      <td>cape girardeau</td>\n      <td>mo</td>\n      <td>us</td>\n      <td>cigar</td>\n      <td>180</td>\n      <td>3 minutes</td>\n      <td>Strange Sight About Cape</td>\n      <td>2/4/2013</td>\n      <td>37.3058333</td>\n      <td>-89.518056</td>\n    </tr>\n    <tr>\n      <th>26700</th>\n      <td>2/15/2004 23:00</td>\n      <td>cape girardeau</td>\n      <td>mo</td>\n      <td>us</td>\n      <td>triangle</td>\n      <td>60</td>\n      <td>1min</td>\n      <td>i was on my carport and looked over by the str...</td>\n      <td>11/28/2007</td>\n      <td>37.3058333</td>\n      <td>-89.518056</td>\n    </tr>\n    <tr>\n      <th>28322</th>\n      <td>2/23/2014 23:00</td>\n      <td>cape girardeau</td>\n      <td>mo</td>\n      <td>us</td>\n      <td>unknown</td>\n      <td>120</td>\n      <td>2 minutes</td>\n      <td>2 Perfect White Circles hovering extremely low...</td>\n      <td>2/27/2014</td>\n      <td>37.3058333</td>\n      <td>-89.518056</td>\n    </tr>\n    <tr>\n      <th>34756</th>\n      <td>3/5/1999 1:00</td>\n      <td>cape girardeau</td>\n      <td>mo</td>\n      <td>us</td>\n      <td>unknown</td>\n      <td>900</td>\n      <td>15 minutes</td>\n      <td>2 fast objects chased by planes.</td>\n      <td>9/17/2000</td>\n      <td>37.3058333</td>\n      <td>-89.518056</td>\n    </tr>\n    <tr>\n      <th>40612</th>\n      <td>4/6/2014 4:00</td>\n      <td>cape girardeau</td>\n      <td>mo</td>\n      <td>us</td>\n      <td>circle</td>\n      <td>1</td>\n      <td>1 second</td>\n      <td>I was at work at McDonald&amp;#39s&amp;#44 it was arou...</td>\n      <td>4/11/2014</td>\n      <td>37.3058333</td>\n      <td>-89.518056</td>\n    </tr>\n    <tr>\n      <th>44130</th>\n      <td>5/24/2005 23:15</td>\n      <td>cape girardeau</td>\n      <td>mo</td>\n      <td>us</td>\n      <td>egg</td>\n      <td>600</td>\n      <td>10 min</td>\n      <td>Very large &amp;#44stationary&amp;#44illuminated like ...</td>\n      <td>5/28/2005</td>\n      <td>37.3058333</td>\n      <td>-89.518056</td>\n    </tr>\n    <tr>\n      <th>51590</th>\n      <td>6/24/2012 21:55</td>\n      <td>cape girardeau</td>\n      <td>mo</td>\n      <td>us</td>\n      <td>light</td>\n      <td>30</td>\n      <td>30 seconds</td>\n      <td>Bright green/yellow light traveling nw to se a...</td>\n      <td>7/4/2012</td>\n      <td>37.3058333</td>\n      <td>-89.518056</td>\n    </tr>\n    <tr>\n      <th>52480</th>\n      <td>6/29/2008 19:00</td>\n      <td>cape girardeau</td>\n      <td>mo</td>\n      <td>us</td>\n      <td>oval</td>\n      <td>900</td>\n      <td>15 minutes</td>\n      <td>5 silver&amp;#44 oval shaped objects moving slowly...</td>\n      <td>7/5/2008</td>\n      <td>37.3058333</td>\n      <td>-89.518056</td>\n    </tr>\n    <tr>\n      <th>52615</th>\n      <td>6/30/1956 13:00</td>\n      <td>cape girardeau</td>\n      <td>mo</td>\n      <td>us</td>\n      <td>diamond</td>\n      <td>300</td>\n      <td>5 minutew</td>\n      <td>Angular UFO sighted as a child</td>\n      <td>12/12/2011</td>\n      <td>37.3058333</td>\n      <td>-89.518056</td>\n    </tr>\n    <tr>\n      <th>53208</th>\n      <td>6/30/2011 22:08</td>\n      <td>cape girardeau</td>\n      <td>mo</td>\n      <td>us</td>\n      <td>light</td>\n      <td>120</td>\n      <td>2 mins</td>\n      <td>Orange Light passing over city&amp;#44 silent.</td>\n      <td>7/4/2011</td>\n      <td>37.3058333</td>\n      <td>-89.518056</td>\n    </tr>\n    <tr>\n      <th>61183</th>\n      <td>7/31/2012 23:15</td>\n      <td>cape girardeau</td>\n      <td>mo</td>\n      <td>us</td>\n      <td>diamond</td>\n      <td>1425</td>\n      <td>23:45</td>\n      <td>3 Multi-colored possibly diamond shaped UFOs</td>\n      <td>8/5/2012</td>\n      <td>37.3058333</td>\n      <td>-89.518056</td>\n    </tr>\n    <tr>\n      <th>61207</th>\n      <td>7/3/1990 22:00</td>\n      <td>cape girardeau</td>\n      <td>mo</td>\n      <td>us</td>\n      <td>sphere</td>\n      <td>300</td>\n      <td>5 minutes</td>\n      <td>I heard two men talking to each other and one ...</td>\n      <td>12/12/2009</td>\n      <td>37.3058333</td>\n      <td>-89.518056</td>\n    </tr>\n    <tr>\n      <th>65205</th>\n      <td>8/1/2012 22:45</td>\n      <td>cape girardeau</td>\n      <td>mo</td>\n      <td>us</td>\n      <td>oval</td>\n      <td>7200</td>\n      <td>2 hrs at least</td>\n      <td>Green orb over Cape Girardeau&amp;#44 MO Aug 1&amp;#44...</td>\n      <td>8/19/2012</td>\n      <td>37.3058333</td>\n      <td>-89.518056</td>\n    </tr>\n    <tr>\n      <th>76811</th>\n      <td>9/22/1973 18:02</td>\n      <td>cape girardeau</td>\n      <td>mo</td>\n      <td>us</td>\n      <td>disk</td>\n      <td>1200</td>\n      <td>20 minutes</td>\n      <td>I watched a disk-shaped craft hover above tree...</td>\n      <td>9/17/2000</td>\n      <td>37.3058</td>\n      <td>-89.518056</td>\n    </tr>\n  </tbody>\n</table>\n</div>"
     },
     "metadata": {},
     "execution_count": 68
    }
   ],
   "source": [
    "cape_df = us_df[us_df[\"city\"] == \"cape girardeau\"]\n",
    "cape_df"
   ]
  },
  {
   "cell_type": "code",
   "execution_count": 69,
   "metadata": {},
   "outputs": [
    {
     "output_type": "execute_result",
     "data": {
      "text/plain": [
       "datetime                 object\n",
       "city                     object\n",
       "state                    object\n",
       "country                  object\n",
       "shape                    object\n",
       "duration (seconds)       object\n",
       "duration (hours/min)     object\n",
       "comments                 object\n",
       "date posted              object\n",
       "latitude                 object\n",
       "longitude               float64\n",
       "dtype: object"
      ]
     },
     "metadata": {},
     "execution_count": 69
    }
   ],
   "source": [
    "us_df.dtypes"
   ]
  },
  {
   "cell_type": "code",
   "execution_count": 70,
   "metadata": {
    "tags": []
   },
   "outputs": [
    {
     "output_type": "stream",
     "name": "stdout",
     "text": [
      "2004.1291874912963\n2007\nModeResult(mode=array([2012]), count=array([6282]))\n"
     ]
    }
   ],
   "source": [
    "years = []\n",
    "\n",
    "for entry in us_df.datetime:\n",
    "    try:\n",
    "        dt = datetime.strptime(entry, \"%m/%d/%Y %H:%M\")\n",
    "        # print(dt.year)\n",
    "        years.append(dt.year)\n",
    "    except ValueError:\n",
    "        nothing = 0 \n",
    "print(sum(years)/ len(years))\n",
    "print(sorted(years)[int(len(years) / 2)])\n",
    "print(stats.mode(np.array(years)))\n",
    "        "
   ]
  },
  {
   "cell_type": "code",
   "execution_count": 71,
   "metadata": {},
   "outputs": [],
   "source": [
    "def mapping(x):\n",
    "    if \"/\" in x:\n",
    "        return x\n",
    "    else:\n",
    "        return 0\n",
    "us_df.datetime = us_df.datetime.apply(mapping)\n",
    "us_df.datetime = us_df.datetime[us_df.datetime != 0]"
   ]
  },
  {
   "cell_type": "code",
   "execution_count": 72,
   "metadata": {},
   "outputs": [],
   "source": [
    "us_df[\"datetime\"] = us_df[\"datetime\"].astype(\"datetime64\")"
   ]
  },
  {
   "cell_type": "code",
   "execution_count": 73,
   "metadata": {},
   "outputs": [
    {
     "output_type": "stream",
     "name": "stdout",
     "text": [
      "<class 'pandas.core.frame.DataFrame'>\nInt64Index: 65114 entries, 0 to 80331\nData columns (total 11 columns):\n #   Column                Non-Null Count  Dtype         \n---  ------                --------------  -----         \n 0   datetime              64627 non-null  datetime64[ns]\n 1   city                  65114 non-null  object        \n 2   state                 65114 non-null  object        \n 3   country               65114 non-null  object        \n 4   shape                 63561 non-null  object        \n 5   duration (seconds)    65114 non-null  object        \n 6   duration (hours/min)  65114 non-null  object        \n 7   comments              65101 non-null  object        \n 8   date posted           65114 non-null  object        \n 9   latitude              65114 non-null  object        \n 10  longitude             65114 non-null  float64       \ndtypes: datetime64[ns](1), float64(1), object(9)\nmemory usage: 6.0+ MB\n"
     ]
    }
   ],
   "source": [
    "us_df.info()"
   ]
  },
  {
   "cell_type": "code",
   "execution_count": 74,
   "metadata": {},
   "outputs": [],
   "source": [
    "us_df = us_df.dropna()\n",
    "us_df = us_df.drop(columns = [\"date posted\"])"
   ]
  },
  {
   "cell_type": "code",
   "execution_count": 79,
   "metadata": {},
   "outputs": [
    {
     "output_type": "execute_result",
     "data": {
      "text/plain": [
       "0        san marcos\n",
       "3              edna\n",
       "4           kaneohe\n",
       "5           bristol\n",
       "7           norwalk\n",
       "            ...    \n",
       "80327     nashville\n",
       "80328         boise\n",
       "80329          napa\n",
       "80330        vienna\n",
       "80331        edmond\n",
       "Name: city, Length: 63099, dtype: category\n",
       "Categories (11175, object): [abbeville, abbeville (lake secession), aberdeen, abilene, ..., zionsville, zortman, zumbrota, zwolle]"
      ]
     },
     "metadata": {},
     "execution_count": 79
    }
   ],
   "source": [
    "us_df.city = us_df.city.astype(\"category\")\n",
    "us_df.state = us_df.state.astype(\"category\")\n",
    "us_df.country = us_df.country.astype(\"category\")\n",
    "us_df[\"shape\"] = us_df[\"shape\"].astype(\"category\")\n",
    "us_df.city"
   ]
  },
  {
   "cell_type": "code",
   "execution_count": null,
   "metadata": {},
   "outputs": [],
   "source": []
  }
 ]
}